{
 "cells": [
  {
   "cell_type": "markdown",
   "metadata": {},
   "source": [
    "# Explore Fantasy Football Data using Pandas (Python Data Analysis Library) <a id=\"return\"></a>\n",
    "\n",
    "This notebook will audit data stored in flat files (e.g. \".csv\"), serialized python objects (e.g. \".pkl\") or database tables.\n",
    "<br><br/>\n",
    "\n",
    "**Notebook Sections:**\n",
    "1. [Import Packages and Set User-Defined Fields](#section1)\n",
    "2. [Read in Data](#section2)\n",
    "3. [Explore Overall Data](#section3)\n",
    "4. [Explore Numerical Data](#section4)\n",
    "    1. [Explore Numerical Distributions](#section4a)\n",
    "    2. [Explore Numerical Correlations](#section4b)\n",
    "5. [Explore Categorical Data](#section5)\n",
    "    1. [Explore Categorical Relationships](#section5a)\n",
    "6. [Explore Numerical/Categorical Relationships](#section6)\n",
    "7. [Explore Date Distributions](#section7)\n",
    "<br><br/>\n",
    "\n",
    "**Outputs:**\n",
    "1. Summary of Overall Data: **csv**\n",
    "2. Summary of Numerical Data: **csv**\n",
    "    1. Histogram Plot(s): **pdf**\n",
    "    2. Heatmap Plot: **pdf** and/or **csv**\n",
    "3. Summary of Categorical Data: **csv**\n",
    "    1. Summary of Categorical Relationships Tests: **csv**\n",
    "    2. Heatmap Plots: **pdf**\n",
    "4. Summary of Numerical/Categorical Relationships Test: **csv**\n",
    "5. Date Distribution Plot(s): **pdf**"
   ]
  },
  {
   "cell_type": "markdown",
   "metadata": {},
   "source": [
    "## Import Packages <a id=\"section1\"></a>"
   ]
  },
  {
   "cell_type": "code",
   "execution_count": 43,
   "metadata": {},
   "outputs": [],
   "source": [
    "# import packages to create/manipulate dataframes\n",
    "import pandas as pd\n",
    "import numpy as np\n",
    "\n",
    "# import package for interacting with operating system\n",
    "import os\n",
    "\n",
    "# import package to create database connection\n",
    "import psycopg2\n",
    "\n",
    "# run the 00-data_audit-pandas-util.ipynb notebook\n",
    "%run 00-data_audit-pandas-util.ipynb"
   ]
  },
  {
   "cell_type": "markdown",
   "metadata": {},
   "source": [
    "## Set User-Defined Fields\n",
    "\n",
    "[Return to Top](#return)"
   ]
  },
  {
   "cell_type": "code",
   "execution_count": 44,
   "metadata": {},
   "outputs": [],
   "source": [
    "# set print flag to True to print output within this notebook or set to False to save output to flat files\n",
    "print_flag = False\n",
    "\n",
    "# if False then create an data output directory\n",
    "if not print_flag:\n",
    "    \n",
    "    # set output directory\n",
    "    output_dir = '../data/data_exploration/'\n",
    "\n",
    "    # create directory if it doesn't exist\n",
    "    if not os.path.exists(output_dir): \n",
    "        os.makedirs(output_dir)\n",
    "    \n",
    "# set data directory; set to None if not using\n",
    "data_dir = '../data/'\n",
    "\n",
    "# set file name of data to explore; set to None if not using\n",
    "file_name = 'matchups_df_all.pkl'\n",
    "\n",
    "# if there's a data directory then create full file path to data including the file name\n",
    "if data_dir:\n",
    "\n",
    "    # set full file path to data including the file name\n",
    "    file_path = data_dir + file_name\n",
    "    \n",
    "else:\n",
    "    file_path = None\n",
    "\n",
    "# set database schema name; set to None if not using\n",
    "schema_name = None\n",
    "\n",
    "# set database table name of data to explore; set to None if not using\n",
    "table_name = None\n",
    "\n",
    "# if schema name exists then set DB path to data including the table name as well as DB connection settings\n",
    "if schema_name:\n",
    "    \n",
    "    # set full database path to data including the table name\n",
    "    db_path = schema_name + '.' + table_name\n",
    "    \n",
    "    # set database name\n",
    "    db_name = \"tkgafrwp\"\n",
    "    \n",
    "    # set user name\n",
    "    db_user = \"tkgafrwp\"\n",
    "    \n",
    "    # set user password\n",
    "    db_pass = \"iYYtLAXVbid-i6MV3NO1EnU-_9SW2uEi\"\n",
    "    \n",
    "    # set host name\n",
    "    db_host = \"tyke.db.elephantsql.com\"\n",
    "    \n",
    "    # set port number\n",
    "    db_port = \"5432\"\n",
    "    \n",
    "else:\n",
    "    db_path = None\n",
    "    \n",
    "# create data name tuple; needed to help create output file name\n",
    "data_name_tuple = (True, file_name) if file_path else (False, table_name)"
   ]
  },
  {
   "cell_type": "markdown",
   "metadata": {},
   "source": [
    "Create database connection."
   ]
  },
  {
   "cell_type": "code",
   "execution_count": 45,
   "metadata": {},
   "outputs": [],
   "source": [
    "# set database connection if schema name exists\n",
    "if schema_name:\n",
    "    \n",
    "    # try database connection\n",
    "    try:\n",
    "        \n",
    "        # create database connection object\n",
    "        db_conn = psycopg2.connect(database = db_name\n",
    "                                  ,user = db_user\n",
    "                                  ,password = db_pass\n",
    "                                  ,host = db_host\n",
    "                                  ,port = db_port\n",
    "                                  )\n",
    "        \n",
    "        # print success message\n",
    "        print(\"Database connected successfully\")\n",
    "    except:\n",
    "        \n",
    "        # print failure message\n",
    "        print(\"Database not connected successfully\")"
   ]
  },
  {
   "cell_type": "markdown",
   "metadata": {},
   "source": [
    "## Read in Data <a id=\"section2\"></a>\n",
    "[Return to Top](#return)"
   ]
  },
  {
   "cell_type": "code",
   "execution_count": 46,
   "metadata": {},
   "outputs": [
    {
     "name": "stdout",
     "output_type": "stream",
     "text": [
      "<class 'pandas.core.frame.DataFrame'>\n",
      "RangeIndex: 648 entries, 0 to 647\n",
      "Data columns (total 9 columns):\n",
      " #   Column               Non-Null Count  Dtype  \n",
      "---  ------               --------------  -----  \n",
      " 0   year                 648 non-null    int64  \n",
      " 1   week                 648 non-null    int64  \n",
      " 2   owner_team_name      648 non-null    object \n",
      " 3   owner                648 non-null    object \n",
      " 4   score                648 non-null    float64\n",
      " 5   win                  648 non-null    int64  \n",
      " 6   opp_owner_team_name  648 non-null    object \n",
      " 7   opp_owner            648 non-null    object \n",
      " 8   opp_score            648 non-null    float64\n",
      "dtypes: float64(2), int64(3), object(4)\n",
      "memory usage: 45.7+ KB\n"
     ]
    },
    {
     "data": {
      "text/plain": [
       "None"
      ]
     },
     "metadata": {},
     "output_type": "display_data"
    }
   ],
   "source": [
    "# run read data function\n",
    "df = read_data(file_path = file_path) if file_path else read_data(db_path = db_path, db_conn = db_conn)"
   ]
  },
  {
   "cell_type": "markdown",
   "metadata": {},
   "source": [
    "## Explore Overall Data <a id=\"section3\"></a>\n",
    "\n",
    "This section will review the following:\n",
    "* Row Count\n",
    "* Column Count\n",
    "* Total Percentage Null\n",
    "* Total Percentage Empty\n",
    "* Total Percentage Zero\n",
    "* Total Percentage Negative\n",
    "* Total Percentage Positive\n",
    "* Data Type Counts\n",
    "\n",
    "[Return to Top](#return)"
   ]
  },
  {
   "cell_type": "code",
   "execution_count": 48,
   "metadata": {},
   "outputs": [],
   "source": [
    "# run explore all data function\n",
    "explore_all_data(data = df, print_flag = print_flag) if print_flag else explore_all_data(data = df\n",
    "                                                                                        ,file_name_flag = data_name_tuple[0]\n",
    "                                                                                        ,data_name_var = data_name_tuple[1]\n",
    "                                                                                        ,output_dir = output_dir\n",
    "                                                                                        )"
   ]
  },
  {
   "cell_type": "markdown",
   "metadata": {},
   "source": [
    "## Explore Numerical Data <a id=\"section4\"></a>\n",
    "\n",
    "This section will review the following for each numerical variable:\n",
    "* Row count\n",
    "* Number of distinct values\n",
    "* 5-number summary\n",
    "* Mean\n",
    "* Standard Deviation\n",
    "* Sum of all values\n",
    "* Percentage null\n",
    "* Percentage zero\n",
    "* Percentage positive\n",
    "* Percentage negative\n",
    "* Top n most frequent values\n",
    "* First n values when sorted\n",
    "* Last n values when sorted\n",
    "\n",
    "[Return to Top](#return)"
   ]
  },
  {
   "cell_type": "code",
   "execution_count": 50,
   "metadata": {},
   "outputs": [],
   "source": [
    "# run data exploration function and pass it the numerical data exploration function\n",
    "run_explore_func(data = df, func = explore_num_data, print_flag = print_flag) if print_flag else run_explore_func(data = df\n",
    "                                                                                                                 ,func = explore_num_data\n",
    "                                                                                                                 ,file_name_flag = data_name_tuple[0]\n",
    "                                                                                                                 ,data_name_var = data_name_tuple[1]\n",
    "                                                                                                                 ,output_dir = output_dir\n",
    "                                                                                                                 )"
   ]
  },
  {
   "cell_type": "markdown",
   "metadata": {},
   "source": [
    "### Explore Numerical Distributions <a id=\"section4a\"></a>\n",
    "\n",
    "This section will explore numerical distributions via histograms.\n",
    "<br><br/>\n",
    "\n",
    "[Return to Top](#return)"
   ]
  },
  {
   "cell_type": "code",
   "execution_count": 52,
   "metadata": {},
   "outputs": [],
   "source": [
    "# run plot histograms function\n",
    "plot_hist(data = df, print_flag = print_flag) if print_flag else plot_hist(data = df\n",
    "                                                                          ,file_name_flag = data_name_tuple[0]\n",
    "                                                                          ,data_name_var = data_name_tuple[1]\n",
    "                                                                          ,output_dir = output_dir\n",
    "                                                                          )"
   ]
  },
  {
   "cell_type": "markdown",
   "metadata": {},
   "source": [
    "### Explore Numerical Correlations <a id=\"section4b\"></a>\n",
    "\n",
    "This section will explore numerical correlations via a heatmap.\n",
    "<br><br/>\n",
    "\n",
    "[Return to Top](#return)"
   ]
  },
  {
   "cell_type": "code",
   "execution_count": 54,
   "metadata": {},
   "outputs": [],
   "source": [
    "# run plot correlation matrix function\n",
    "corr_matrix(data = df, print_flag = print_flag) if print_flag else corr_matrix(data = df\n",
    "                                                                              ,file_name_flag = data_name_tuple[0]\n",
    "                                                                              ,data_name_var = data_name_tuple[1]\n",
    "                                                                              ,output_dir = output_dir\n",
    "                                                                              )"
   ]
  },
  {
   "cell_type": "markdown",
   "metadata": {},
   "source": [
    "## Explore Categorical Data <a id=\"section5\"></a>\n",
    "\n",
    "This section will review the following for each categorical variable:\n",
    "* Row count\n",
    "* Number of distinct values\n",
    "* Minimum string length\n",
    "* Maximum string length\n",
    "* Percentage null\n",
    "* Percentage empty\n",
    "* Top n most frequent values\n",
    "* First n values when sorted\n",
    "* Last n values when sorted\n",
    "<br><br/>\n",
    "\n",
    "[Return to Top](#return)"
   ]
  },
  {
   "cell_type": "code",
   "execution_count": 56,
   "metadata": {},
   "outputs": [],
   "source": [
    "# run data exploration function and pass it the categorical data exploration function\n",
    "run_explore_func(data = df, func = explore_cat_data, print_flag = print_flag) if print_flag else run_explore_func(data = df\n",
    "                                                                                                                 ,func = explore_cat_data\n",
    "                                                                                                                 ,file_name_flag = data_name_tuple[0]\n",
    "                                                                                                                 ,data_name_var = data_name_tuple[1]\n",
    "                                                                                                                 ,output_dir = output_dir\n",
    "                                                                                                                 )"
   ]
  },
  {
   "cell_type": "markdown",
   "metadata": {},
   "source": [
    "### Explore Categorical Relationships <a id=\"section5a\"></a>\n",
    "\n",
    "This section will explore the relationships between each pair of categorical variables by running the following statistical tests:\n",
    "* **Pearson's Chi-Squared Test of Independence**: determines whether there is an association between categorical variables (i.e., whether the variables are independent or related)\n",
    "    * https://en.wikipedia.org/wiki/Chi-squared_test \n",
    "    * https://libguides.library.kent.edu/spss/chisquare  \n",
    "* **Cramér's V**: measures an association between two categorical variables and is based on Pearson's chi-squared statistic\n",
    "    * https://en.wikipedia.org/wiki/Cram%C3%A9r%27s_V#:~:text=In%20statistics%2C%20Cram%C3%A9r's%20V%20\n",
    "    * https://towardsdatascience.com/the-search-for-categorical-correlation-a1cf7f1888c9\n",
    "* **Theil's U**: measures a nominal association between two categorical variables and is based on the concept of information entropy\n",
    "    * https://en.wikipedia.org/wiki/Uncertainty_coefficient\n",
    "    * https://towardsdatascience.com/the-search-for-categorical-correlation-a1cf7f1888c9\n",
    "<br><br/>\n",
    "\n",
    "[Return to Top](#return)"
   ]
  },
  {
   "cell_type": "code",
   "execution_count": 58,
   "metadata": {},
   "outputs": [
    {
     "name": "stderr",
     "output_type": "stream",
     "text": [
      "C:\\Users\\NADUVE~1\\AppData\\Local\\Temp/ipykernel_27128/2908961566.py:85: RuntimeWarning: Rounded V = 1.0000000000000002 to 1.0. This is probably due to floating point precision issues.\n",
      "  warnings.warn(f'Rounded V = {v} to {rounded_v}. This is probably due to floating point precision issues.', RuntimeWarning)\n"
     ]
    }
   ],
   "source": [
    "# run categorical relationship function\n",
    "run_cat_rel_func(data = df, print_flag = print_flag) if print_flag else run_cat_rel_func(data = df\n",
    "                                                                                        ,file_name_flag = data_name_tuple[0]\n",
    "                                                                                        ,data_name_var = data_name_tuple[1]\n",
    "                                                                                        ,output_dir = output_dir\n",
    "                                                                                        )"
   ]
  },
  {
   "cell_type": "markdown",
   "metadata": {},
   "source": [
    "## Explore Numerical/Categorical Relationships <a id=\"section6\"></a>\n",
    "\n",
    "This section will explore the relationships between each unique numerical and categorical column pair by running the following statistical test:\n",
    "* **Correlation Ratio**: mathematically, it is defined as the weighted variance of the mean of each category divided by the variance of all samples; in human language, the Correlation Ratio answers the following question: Given a continuous number, how well can you know to which category it belongs? \n",
    "    * https://en.wikipedia.org/wiki/Correlation_ratio\n",
    "    * https://towardsdatascience.com/the-search-for-categorical-correlation-a1cf7f1888c9  \n",
    "\n",
    "[Return to Top](#return)"
   ]
  },
  {
   "cell_type": "code",
   "execution_count": 60,
   "metadata": {},
   "outputs": [],
   "source": [
    "# run categorical relationship function\n",
    "run_corr_ratio_func(data = df, print_flag = print_flag) if print_flag else run_corr_ratio_func(data = df\n",
    "                                                                                              ,file_name_flag = data_name_tuple[0]\n",
    "                                                                                              ,data_name_var = data_name_tuple[1]\n",
    "                                                                                              ,output_dir = output_dir\n",
    "                                                                                              )"
   ]
  },
  {
   "cell_type": "markdown",
   "metadata": {},
   "source": [
    "## Explore Date Distributions <a id=\"section7\"></a>\n",
    "\n",
    "This section will explore date distributions via line plot(s).\n",
    "<br><br/>\n",
    "\n",
    "[Return to Top](#return)"
   ]
  },
  {
   "cell_type": "code",
   "execution_count": 62,
   "metadata": {},
   "outputs": [
    {
     "name": "stdout",
     "output_type": "stream",
     "text": [
      "No dates.\n"
     ]
    }
   ],
   "source": [
    "# run categorical relationship function\n",
    "plot_dates(data = df, print_flag = print_flag) if print_flag else plot_dates(data = df\n",
    "                                                                            ,file_name_flag = data_name_tuple[0]\n",
    "                                                                            ,data_name_var = data_name_tuple[1]\n",
    "                                                                            ,output_dir = output_dir\n",
    "                                                                            )"
   ]
  },
  {
   "cell_type": "code",
   "execution_count": null,
   "metadata": {},
   "outputs": [],
   "source": []
  }
 ],
 "metadata": {
  "kernelspec": {
   "display_name": "Python 3 (ipykernel)",
   "language": "python",
   "name": "python3"
  },
  "language_info": {
   "codemirror_mode": {
    "name": "ipython",
    "version": 3
   },
   "file_extension": ".py",
   "mimetype": "text/x-python",
   "name": "python",
   "nbconvert_exporter": "python",
   "pygments_lexer": "ipython3",
   "version": "3.9.7"
  },
  "toc-autonumbering": false,
  "toc-showcode": false,
  "toc-showmarkdowntxt": false
 },
 "nbformat": 4,
 "nbformat_minor": 4
}
