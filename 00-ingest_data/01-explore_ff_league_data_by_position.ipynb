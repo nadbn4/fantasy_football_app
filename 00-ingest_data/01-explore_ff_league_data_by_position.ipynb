{
 "cells": [
  {
   "cell_type": "markdown",
   "metadata": {},
   "source": [
    "# Explore Fantasy Football Data <a id=\"return\"></a>\n",
    "\n",
    "This notebook will explore the web-scraped data from the ESPN Raytonia Beach Fantasy Football League.\n",
    "<br><br/>\n",
    "\n",
    "**Notebook Sections:**\n",
    "1. [Import Packages and Set User-Defined Fields](#section1)\n",
    "2. [Read in Data](#section2)\n",
    "3. [Explore Numerical Data](#section3)\n",
    "4. [Explore Categorical Data](#section4)\n",
    "5. [Explore Numerical Distributions](#section5)\n",
    "6. [Explore Numerical Correlations](#section6)\n",
    "<br><br/>\n",
    "\n",
    "**Outputs:**\n",
    "1. Web-Scraped Weekly Matchup Raw Data: **json**\n",
    "<br><br/>\n",
    "\n",
    "**Enhancements:**\n",
    "1. Explore categorical relationships via Chi-Square Test of Independence, Cramer's V, and Theil's U"
   ]
  },
  {
   "cell_type": "markdown",
   "metadata": {},
   "source": [
    "## Import Packages <a id=\"section1\"></a>"
   ]
  },
  {
   "cell_type": "code",
   "execution_count": 1,
   "metadata": {},
   "outputs": [
    {
     "data": {
      "text/html": [
       "<style>.container { width:90% !important; }</style>"
      ],
      "text/plain": [
       "<IPython.core.display.HTML object>"
      ]
     },
     "metadata": {},
     "output_type": "display_data"
    }
   ],
   "source": [
    "# import needed packages\n",
    "# import numpy as np\n",
    "import pandas as pd\n",
    "import os\n",
    "# import explore_util\n",
    "\n",
    "# set pandas display options\n",
    "pd.set_option('display.max_columns',500)\n",
    "pd.set_option('display.max_rows',100)\n",
    "\n",
    "# prints multiple outputs within same cell display\n",
    "# from IPython.core.interactiveshell import InteractiveShell\n",
    "# InteractiveShell.ast_node_interactivity = \"all\"\n",
    "\n",
    "# run the 00-01-explore_ff_league_data_util.ipynb notebook\n",
    "%run 01-explore_ff_league_data_util.ipynb"
   ]
  },
  {
   "cell_type": "markdown",
   "metadata": {},
   "source": [
    "## Set User-Defined Fields\n",
    "\n",
    "[Return to Top](#return)"
   ]
  },
  {
   "cell_type": "code",
   "execution_count": 2,
   "metadata": {},
   "outputs": [],
   "source": [
    "# set print flag to True if you want to output within this notebook or set print flag to False to save output to csv\n",
    "print_flag = False\n",
    "\n",
    "# if print flag is False set output directory below\n",
    "output_dir = '../data/data_exploration/'\n",
    "\n",
    "# create directory if it doesn't exist\n",
    "if not os.path.exists(output_dir): \n",
    "    os.makedirs(output_dir)"
   ]
  },
  {
   "cell_type": "markdown",
   "metadata": {},
   "source": [
    "## Read in Data <a id=\"section2\"></a>\n",
    "[Return to Top](#return)"
   ]
  },
  {
   "cell_type": "code",
   "execution_count": 3,
   "metadata": {},
   "outputs": [],
   "source": [
    "# create function to read in data\n",
    "def read_data(file_name, columns):\n",
    "    \n",
    "    # read csv\n",
    "    df = pd.read_csv(file_name)\n",
    "\n",
    "    # convert columns to string\n",
    "    df[columns[2:]] = df[columns[2:]].astype('string')\n",
    "    \n",
    "    # initially explore data\n",
    "    df.info()\n",
    "    \n",
    "    return df"
   ]
  },
  {
   "cell_type": "code",
   "execution_count": 4,
   "metadata": {},
   "outputs": [
    {
     "name": "stdout",
     "output_type": "stream",
     "text": [
      "<class 'pandas.core.frame.DataFrame'>\n",
      "RangeIndex: 7615 entries, 0 to 7614\n",
      "Data columns (total 43 columns):\n",
      " #   Column               Non-Null Count  Dtype  \n",
      "---  ------               --------------  -----  \n",
      " 0   year                 7615 non-null   int64  \n",
      " 1   week                 7615 non-null   int64  \n",
      " 2   player               7615 non-null   string \n",
      " 3   short_name           7615 non-null   string \n",
      " 4   position_name        7615 non-null   string \n",
      " 5   pro_team             7615 non-null   string \n",
      " 6   pro_team_abv         7615 non-null   string \n",
      " 7   rush_att             7615 non-null   float64\n",
      " 8   rush_yrd             7615 non-null   float64\n",
      " 9   rush_td              7615 non-null   float64\n",
      " 10  rush_2pt_con         7615 non-null   float64\n",
      " 11  rec_tar              7615 non-null   float64\n",
      " 12  receptions           7615 non-null   float64\n",
      " 13  rec_yrd              7615 non-null   float64\n",
      " 14  rec_td               7615 non-null   float64\n",
      " 15  rec_2pt_con          7615 non-null   float64\n",
      " 16  fum_lost             7615 non-null   float64\n",
      " 17  yrd_per_rush         7615 non-null   float64\n",
      " 18  rush_share           7615 non-null   float64\n",
      " 19  total_off_share      7615 non-null   float64\n",
      " 20  target_share         7615 non-null   float64\n",
      " 21  yrd_per_catch        7615 non-null   float64\n",
      " 22  yards_after_catch    7615 non-null   float64\n",
      " 23  air_yards_ind        7615 non-null   float64\n",
      " 24  compl_rec_air_yrds   7615 non-null   float64\n",
      " 25  racr                 7615 non-null   float64\n",
      " 26  adot                 7615 non-null   float64\n",
      " 27  wopr                 7615 non-null   float64\n",
      " 28  rush_5_yrd_ff        7615 non-null   float64\n",
      " 29  rush_yrd_100_199_ff  7615 non-null   float64\n",
      " 30  rush_yrd_200+_ff     7615 non-null   float64\n",
      " 31  rush_td_ff           7615 non-null   float64\n",
      " 32  rush_50_yrd_td_ff    7615 non-null   float64\n",
      " 33  rush_2pt_con_ff      7615 non-null   float64\n",
      " 34  receptions_ff        7615 non-null   float64\n",
      " 35  rec_5_yrd_ff         7615 non-null   float64\n",
      " 36  rec_yrd_100_199_ff   7615 non-null   float64\n",
      " 37  rec_yrd_200+_ff      7615 non-null   float64\n",
      " 38  rec_td_ff            7615 non-null   float64\n",
      " 39  rec_50_yrd_td_ff     7615 non-null   float64\n",
      " 40  rec_2pt_con_ff_ff    7615 non-null   float64\n",
      " 41  fum_lost_ff          7615 non-null   float64\n",
      " 42  actual_points        7615 non-null   float64\n",
      "dtypes: float64(36), int64(2), string(5)\n",
      "memory usage: 2.5 MB\n"
     ]
    }
   ],
   "source": [
    "# create list of player specific columns\n",
    "player_columns = ['year'\n",
    "                 ,'week'\n",
    "                 ,'player'\n",
    "                 ,'short_name'\n",
    "                 ,'position_name'\n",
    "                 ,'pro_team'\n",
    "                 ,'pro_team_abv']\n",
    "\n",
    "# run read_data function\n",
    "rbwrte_df = read_data(\"rbwrte_feature_matrix.csv\", player_columns)"
   ]
  },
  {
   "cell_type": "code",
   "execution_count": 32,
   "metadata": {},
   "outputs": [
    {
     "name": "stdout",
     "output_type": "stream",
     "text": [
      "<class 'pandas.core.frame.DataFrame'>\n",
      "RangeIndex: 1148 entries, 0 to 1147\n",
      "Data columns (total 62 columns):\n",
      " #   Column               Non-Null Count  Dtype  \n",
      "---  ------               --------------  -----  \n",
      " 0   year                 1148 non-null   int64  \n",
      " 1   week                 1148 non-null   int64  \n",
      " 2   player               1148 non-null   string \n",
      " 3   short_name           1148 non-null   string \n",
      " 4   position_name        1148 non-null   string \n",
      " 5   pro_team             1148 non-null   string \n",
      " 6   pro_team_abv         1148 non-null   string \n",
      " 7   pass_comp            1148 non-null   float64\n",
      " 8   pass_incomp          1148 non-null   float64\n",
      " 9   pass_yrd             1148 non-null   float64\n",
      " 10  air_yards            1148 non-null   float64\n",
      " 11  pass_td              1148 non-null   float64\n",
      " 12  rdz_td               1148 non-null   float64\n",
      " 13  pass_2pt_con         1148 non-null   float64\n",
      " 14  pass_int             1148 non-null   float64\n",
      " 15  rush_att             1148 non-null   float64\n",
      " 16  rush_yrd             1148 non-null   float64\n",
      " 17  rush_td              1148 non-null   float64\n",
      " 18  rush_2pt_con         1148 non-null   float64\n",
      " 19  fum_lost             1148 non-null   float64\n",
      " 20  compl_rate           1148 non-null   float64\n",
      " 21  pass_yrd_per_att     1148 non-null   float64\n",
      " 22  air_yrd_per_att      1148 non-null   float64\n",
      " 23  adj_net_yrd_per_att  1148 non-null   float64\n",
      " 24  comp_air_yard        1148 non-null   float64\n",
      " 25  td_to_att_ratio      1148 non-null   float64\n",
      " 26  int_to_td_ratio      1148 non-null   float64\n",
      " 27  total_to             1148 non-null   float64\n",
      " 28  yrd_per_rush         1148 non-null   float64\n",
      " 29  rush_share           1148 non-null   float64\n",
      " 30  shotgun              1148 non-null   float64\n",
      " 31  no_huddle            1148 non-null   float64\n",
      " 32  qb_dropback          1148 non-null   float64\n",
      " 33  qb_kneel             1148 non-null   float64\n",
      " 34  qb_spike             1148 non-null   float64\n",
      " 35  qb_scramble          1148 non-null   float64\n",
      " 36  qb_hit               1148 non-null   float64\n",
      " 37  sack                 1148 non-null   float64\n",
      " 38  ep                   1148 non-null   float64\n",
      " 39  epa                  1148 non-null   float64\n",
      " 40  air_epa              1148 non-null   float64\n",
      " 41  comp_air_epa         1148 non-null   float64\n",
      " 42  qb_epa               1148 non-null   float64\n",
      " 43  air_wpa              1148 non-null   float64\n",
      " 44  comp_air_wpa         1148 non-null   float64\n",
      " 45  pass_comp_ff         1148 non-null   float64\n",
      " 46  pass_incomp_ff       1148 non-null   float64\n",
      " 47  pass_5_yrd_ff        1148 non-null   float64\n",
      " 48  pass_yrd_300_399_ff  1148 non-null   float64\n",
      " 49  pass_yrd_400+_ff     1148 non-null   float64\n",
      " 50  pass_td_ff           1148 non-null   float64\n",
      " 51  pass_50_yrd_td_ff    1148 non-null   float64\n",
      " 52  pass_2pt_con_ff      1148 non-null   float64\n",
      " 53  pass_int_ff          1148 non-null   float64\n",
      " 54  rush_5_yrd_ff        1148 non-null   float64\n",
      " 55  rush_yrd_100_199_ff  1148 non-null   float64\n",
      " 56  rush_yrd_200+_ff     1148 non-null   float64\n",
      " 57  rush_td_ff           1148 non-null   float64\n",
      " 58  rush_50_yrd_td_ff    1148 non-null   float64\n",
      " 59  rush_2pt_con_ff      1148 non-null   float64\n",
      " 60  fum_lost_ff          1148 non-null   float64\n",
      " 61  actual_points        1148 non-null   float64\n",
      "dtypes: float64(55), int64(2), string(5)\n",
      "memory usage: 556.2 KB\n"
     ]
    }
   ],
   "source": [
    "# run read_data function\n",
    "qb_df = read_data(\"qb_feature_matrix.csv\", player_columns)"
   ]
  },
  {
   "cell_type": "code",
   "execution_count": 33,
   "metadata": {},
   "outputs": [
    {
     "name": "stdout",
     "output_type": "stream",
     "text": [
      "<class 'pandas.core.frame.DataFrame'>\n",
      "RangeIndex: 841 entries, 0 to 840\n",
      "Data columns (total 94 columns):\n",
      " #   Column                     Non-Null Count  Dtype  \n",
      "---  ------                     --------------  -----  \n",
      " 0   year                       841 non-null    int64  \n",
      " 1   week                       841 non-null    int64  \n",
      " 2   player                     841 non-null    string \n",
      " 3   short_name                 841 non-null    string \n",
      " 4   position_name              841 non-null    string \n",
      " 5   pro_team                   841 non-null    string \n",
      " 6   pro_team_abv               841 non-null    string \n",
      " 7   def_pts_alw                841 non-null    float64\n",
      " 8   def_tot_yrd_alw            841 non-null    float64\n",
      " 9   def_st_int                 841 non-null    float64\n",
      " 10  def_st_fum                 841 non-null    float64\n",
      " 11  def_st_sack                841 non-null    float64\n",
      " 12  def_st_safety              841 non-null    float64\n",
      " 13  def_st_blk_kick            841 non-null    float64\n",
      " 14  def_st_int_td              841 non-null    float64\n",
      " 15  def_st_fum_ret_td          841 non-null    float64\n",
      " 16  def_st_blk_td              841 non-null    float64\n",
      " 17  def_st_kick_ret_td         841 non-null    float64\n",
      " 18  def_st_punt_ret_td         841 non-null    float64\n",
      " 19  rush_att_agst              841 non-null    float64\n",
      " 20  rush_yrd_agst              841 non-null    float64\n",
      " 21  rush_yrd_gained_agst       841 non-null    float64\n",
      " 22  rush_td_agst               841 non-null    float64\n",
      " 23  inc_pass_agst              841 non-null    float64\n",
      " 24  comp_pass_agst             841 non-null    float64\n",
      " 25  pass_yrd_agst              841 non-null    float64\n",
      " 26  air_yrd_agst               841 non-null    float64\n",
      " 27  yac_agst                   841 non-null    float64\n",
      " 28  pass_yrd_gained_agst       841 non-null    float64\n",
      " 29  pass_td_agst               841 non-null    float64\n",
      " 30  plays_agst                 841 non-null    float64\n",
      " 31  rsh_yrd_per_att_agst       841 non-null    float64\n",
      " 32  compl_perc_agst            841 non-null    float64\n",
      " 33  pass_yrd_per_att_agst      841 non-null    float64\n",
      " 34  yrd_per_play_agst          841 non-null    float64\n",
      " 35  compl_air_yrds_agst        841 non-null    float64\n",
      " 36  racr_agst                  841 non-null    float64\n",
      " 37  adot_agst                  841 non-null    float64\n",
      " 38  net_yrd_per_att_agst       841 non-null    float64\n",
      " 39  adj_net_yrd_per_att_agst   841 non-null    float64\n",
      " 40  pass_td_to_att_ratio_agst  841 non-null    float64\n",
      " 41  rdz_td_agst                841 non-null    float64\n",
      " 42  td_rate_agst               841 non-null    float64\n",
      " 43  int_to_td_ratio_agst       841 non-null    float64\n",
      " 44  total_to                   841 non-null    float64\n",
      " 45  sack_yrd                   841 non-null    float64\n",
      " 46  num_penalty                841 non-null    float64\n",
      " 47  penalty_yards              841 non-null    float64\n",
      " 48  tot_drives_agst            841 non-null    float64\n",
      " 49  drv_end_scr                841 non-null    float64\n",
      " 50  drv_end_scr_perc           841 non-null    float64\n",
      " 51  drv_end_to                 841 non-null    float64\n",
      " 52  drv_end_to_perc            841 non-null    float64\n",
      " 53  shotgun_agst               841 non-null    float64\n",
      " 54  no_huddle_agst             841 non-null    float64\n",
      " 55  qb_drop_agst               841 non-null    float64\n",
      " 56  qb_kneel_agst              841 non-null    float64\n",
      " 57  qb_spike_agst              841 non-null    float64\n",
      " 58  qb_scramble_agst           841 non-null    float64\n",
      " 59  qb_hit_agst                841 non-null    float64\n",
      " 60  ep_agst                    841 non-null    float64\n",
      " 61  epa_agst                   841 non-null    float64\n",
      " 62  air_epa_agst               841 non-null    float64\n",
      " 63  comp_air_epa_agst          841 non-null    float64\n",
      " 64  qb_epa_agst                841 non-null    float64\n",
      " 65  air_wpa_agst               841 non-null    float64\n",
      " 66  comp_air_wpa_agst          841 non-null    float64\n",
      " 67  def_st_0_pts_alw_ff        841 non-null    float64\n",
      " 68  def_st_1_6_pts_alw_ff      841 non-null    float64\n",
      " 69  def_st_7_13_pts_alw_ff     841 non-null    float64\n",
      " 70  def_st_14_17_pts_alw_ff    841 non-null    float64\n",
      " 71  def_st_22_27_pts_alw_ff    841 non-null    float64\n",
      " 72  def_st_28_34_pts_alw_ff    841 non-null    float64\n",
      " 73  def_st_35_45_pts_alw_ff    841 non-null    float64\n",
      " 74  def_st_46+_pts_alw_ff      841 non-null    float64\n",
      " 75  def_st_0_99_yrd_alw_ff     841 non-null    float64\n",
      " 76  def_st_100_199_yrd_alw_ff  841 non-null    float64\n",
      " 77  def_st_200_299_yrd_alw_ff  841 non-null    float64\n",
      " 78  def_st_350_399_yrd_alw     841 non-null    float64\n",
      " 79  def_st_400_449_yrd_alw_ff  841 non-null    float64\n",
      " 80  def_st_450_499_yrd_alw_ff  841 non-null    float64\n",
      " 81  def_st_500_549_yrd_alw_ff  841 non-null    float64\n",
      " 82  def_st_550+_yrd_alw_ff     841 non-null    float64\n",
      " 83  def_st_int_ff              841 non-null    float64\n",
      " 84  def_st_fum_ff              841 non-null    float64\n",
      " 85  def_st_sack_ff             841 non-null    float64\n",
      " 86  def_st_blk_kick_ff         841 non-null    float64\n",
      " 87  def_st_safety_ff           841 non-null    float64\n",
      " 88  def_st_int_td_ff           841 non-null    float64\n",
      " 89  def_st_fum_ret_td_ff       841 non-null    float64\n",
      " 90  def_st_blk_td_ff           841 non-null    float64\n",
      " 91  def_st_kick_ret_td_ff      841 non-null    float64\n",
      " 92  def_st_punt_ret_td_ff      841 non-null    float64\n",
      " 93  actual_points              841 non-null    float64\n",
      "dtypes: float64(87), int64(2), string(5)\n",
      "memory usage: 617.7 KB\n"
     ]
    }
   ],
   "source": [
    "# run read_data function\n",
    "def_df = read_data(\"def_feature_matrix.csv\", player_columns)"
   ]
  },
  {
   "cell_type": "code",
   "execution_count": 35,
   "metadata": {},
   "outputs": [
    {
     "name": "stdout",
     "output_type": "stream",
     "text": [
      "<class 'pandas.core.frame.DataFrame'>\n",
      "RangeIndex: 572 entries, 0 to 571\n",
      "Data columns (total 26 columns):\n",
      " #   Column            Non-Null Count  Dtype  \n",
      "---  ------            --------------  -----  \n",
      " 0   year              572 non-null    int64  \n",
      " 1   week              572 non-null    int64  \n",
      " 2   player            572 non-null    string \n",
      " 3   short_name        572 non-null    string \n",
      " 4   position_name     572 non-null    string \n",
      " 5   pro_team          572 non-null    string \n",
      " 6   pro_team_abv      572 non-null    string \n",
      " 7   pat_con           572 non-null    float64\n",
      " 8   pat_att           572 non-null    float64\n",
      " 9   fg_con            572 non-null    float64\n",
      " 10  fg_att            572 non-null    float64\n",
      " 11  pat_perc          572 non-null    float64\n",
      " 12  fg_perc           572 non-null    float64\n",
      " 13  kick_perc         572 non-null    float64\n",
      " 14  total_plays       572 non-null    float64\n",
      " 15  total_yards       572 non-null    float64\n",
      " 16  total_scores      572 non-null    float64\n",
      " 17  total_scores_rz   572 non-null    float64\n",
      " 18  pat_made_ff       572 non-null    float64\n",
      " 19  pat_miss_ff       572 non-null    float64\n",
      " 20  fg_made_0_39_ff   572 non-null    float64\n",
      " 21  fg_miss_0_39_ff   572 non-null    float64\n",
      " 22  fg_made_40_49_ff  572 non-null    float64\n",
      " 23  fg_miss_40_49_ff  572 non-null    float64\n",
      " 24  fg_made_50_59_ff  572 non-null    float64\n",
      " 25  actual_points     572 non-null    float64\n",
      "dtypes: float64(19), int64(2), string(5)\n",
      "memory usage: 116.3 KB\n"
     ]
    }
   ],
   "source": [
    "# run read_data function\n",
    "kr_df = read_data(\"kr_feature_matrix.csv\", player_columns)"
   ]
  },
  {
   "cell_type": "markdown",
   "metadata": {},
   "source": [
    "## Explore Numerical Data <a id=\"section3\"></a>\n",
    "\n",
    "This section will review the following for each positional group:\n",
    "* Row count\n",
    "* Number of distinct values\n",
    "* 5-number summary\n",
    "* Mean\n",
    "* Standard Deviation\n",
    "* Sum of all values\n",
    "* Percentage null\n",
    "* Percentage zero\n",
    "* Percentage positive\n",
    "* Percentage negative\n",
    "* Top n most frequent values\n",
    "* First n values when sorted\n",
    "* Last n values when sorted\n",
    "<br><br/>\n",
    "\n",
    "[Return to Top](#return)"
   ]
  },
  {
   "cell_type": "markdown",
   "metadata": {},
   "source": [
    "#### Running Backs, Wide Receivers, and Tight Ends:"
   ]
  },
  {
   "cell_type": "code",
   "execution_count": 12,
   "metadata": {},
   "outputs": [],
   "source": [
    "# run run_explore_func and explore_num_data from explore_util\n",
    "explore_util.run_explore_func(rbwrte_df, explore_util.explore_num_data, 'num', 'rbwrte', print_flag, output_dir)"
   ]
  },
  {
   "cell_type": "markdown",
   "metadata": {},
   "source": [
    "#### Quarterbacks:"
   ]
  },
  {
   "cell_type": "code",
   "execution_count": 13,
   "metadata": {},
   "outputs": [],
   "source": [
    "# run run_explore_func and explore_num_data from explore_util\n",
    "explore_util.run_explore_func(qb_df, explore_util.explore_num_data, 'num', 'qb', print_flag, output_dir)"
   ]
  },
  {
   "cell_type": "markdown",
   "metadata": {},
   "source": [
    "#### Defenses:"
   ]
  },
  {
   "cell_type": "code",
   "execution_count": 14,
   "metadata": {},
   "outputs": [],
   "source": [
    "# run run_explore_func and explore_num_data from explore_util\n",
    "explore_util.run_explore_func(def_df, explore_util.explore_num_data, 'num', 'def', print_flag, output_dir)"
   ]
  },
  {
   "cell_type": "markdown",
   "metadata": {},
   "source": [
    "#### Kickers:"
   ]
  },
  {
   "cell_type": "code",
   "execution_count": 15,
   "metadata": {},
   "outputs": [],
   "source": [
    "# run run_explore_func and explore_num_data from explore_util\n",
    "explore_util.run_explore_func(kr_df, explore_util.explore_num_data, 'num', 'kick', print_flag, output_dir)"
   ]
  },
  {
   "cell_type": "markdown",
   "metadata": {},
   "source": [
    "## Explore Categorical Data <a id=\"section4\"></a>\n",
    "\n",
    "This section will review the following for each positional group:\n",
    "* Row count\n",
    "* Number of distinct values\n",
    "* Minimum string length\n",
    "* Maximum string length\n",
    "* Percentage null\n",
    "* Percentage empty\n",
    "* Top n most frequent values\n",
    "* First n values when sorted\n",
    "* Last n values when sorted\n",
    "<br><br/>\n",
    "\n",
    "[Return to Top](#return)"
   ]
  },
  {
   "cell_type": "markdown",
   "metadata": {},
   "source": [
    "#### Running Backs, Wide Receivers, and Tight Ends:"
   ]
  },
  {
   "cell_type": "code",
   "execution_count": 16,
   "metadata": {},
   "outputs": [],
   "source": [
    "# run run_explore_func and explore_cat_data from explore_util\n",
    "explore_util.run_explore_func(rbwrte_df, explore_util.explore_cat_data, 'cat', 'rbwrte', print_flag, output_dir)"
   ]
  },
  {
   "cell_type": "markdown",
   "metadata": {},
   "source": [
    "#### Quarterbacks:"
   ]
  },
  {
   "cell_type": "code",
   "execution_count": 17,
   "metadata": {},
   "outputs": [],
   "source": [
    "# run run_explore_func and explore_cat_data from explore_util\n",
    "explore_util.run_explore_func(qb_df, explore_util.explore_cat_data, 'cat', 'qb', print_flag, output_dir)"
   ]
  },
  {
   "cell_type": "markdown",
   "metadata": {},
   "source": [
    "#### Defenses:"
   ]
  },
  {
   "cell_type": "code",
   "execution_count": 18,
   "metadata": {},
   "outputs": [],
   "source": [
    "# run run_explore_func and explore_cat_data from explore_util\n",
    "explore_util.run_explore_func(def_df, explore_util.explore_cat_data, 'cat', 'def', print_flag, output_dir)"
   ]
  },
  {
   "cell_type": "markdown",
   "metadata": {},
   "source": [
    "#### Kickers:"
   ]
  },
  {
   "cell_type": "code",
   "execution_count": 19,
   "metadata": {},
   "outputs": [],
   "source": [
    "# run run_explore_func and explore_cat_data from explore_util\n",
    "explore_util.run_explore_func(kr_df, explore_util.explore_cat_data, 'cat', 'kick', print_flag, output_dir)"
   ]
  },
  {
   "cell_type": "markdown",
   "metadata": {},
   "source": [
    "## Explore Numerical Distributions <a id=\"section5\"></a>\n",
    "\n",
    "This section will explore numerical distributions via histograms.\n",
    "<br><br/>\n",
    "\n",
    "[Return to Top](#return)"
   ]
  },
  {
   "cell_type": "markdown",
   "metadata": {},
   "source": [
    "#### Running Backs, Wide Receivers, and Tight Ends:"
   ]
  },
  {
   "cell_type": "code",
   "execution_count": 20,
   "metadata": {},
   "outputs": [],
   "source": [
    "# plot histograms for running backs, wide receivers, and tight ends\n",
    "explore_util.plot_hist(rbwrte_df, 'rbwrte', output_dir)"
   ]
  },
  {
   "cell_type": "markdown",
   "metadata": {},
   "source": [
    "#### Quarterbacks:"
   ]
  },
  {
   "cell_type": "code",
   "execution_count": 21,
   "metadata": {},
   "outputs": [],
   "source": [
    "# plot histograms for quaterbacks\n",
    "explore_util.plot_hist(qb_df, 'qb', output_dir)"
   ]
  },
  {
   "cell_type": "markdown",
   "metadata": {},
   "source": [
    "#### Defenses:"
   ]
  },
  {
   "cell_type": "code",
   "execution_count": 22,
   "metadata": {},
   "outputs": [],
   "source": [
    "# plot histograms for defenses\n",
    "explore_util.plot_hist(def_df, 'def', output_dir)"
   ]
  },
  {
   "cell_type": "markdown",
   "metadata": {},
   "source": [
    "#### Kickers:"
   ]
  },
  {
   "cell_type": "code",
   "execution_count": 23,
   "metadata": {},
   "outputs": [],
   "source": [
    "# plot histograms for kickers\n",
    "explore_util.plot_hist(kr_df, 'kr', output_dir)"
   ]
  },
  {
   "cell_type": "markdown",
   "metadata": {},
   "source": [
    "## Explore Numerical Correlations <a id=\"section6\"></a>\n",
    "\n",
    "This section will explore numerical correlations via heatmaps.\n",
    "<br><br/>\n",
    "\n",
    "[Return to Top](#return)"
   ]
  },
  {
   "cell_type": "code",
   "execution_count": 24,
   "metadata": {},
   "outputs": [],
   "source": [
    "# plot heatmaps for running backs, wide receivers, and tight ends\n",
    "explore_util.corr_matrix(rbwrte_df, 'rbwrte', output_dir)"
   ]
  },
  {
   "cell_type": "markdown",
   "metadata": {},
   "source": [
    "#### Quarterbacks:"
   ]
  },
  {
   "cell_type": "code",
   "execution_count": 25,
   "metadata": {},
   "outputs": [],
   "source": [
    "# plot heatmaps for quaterbacks\n",
    "explore_util.corr_matrix(qb_df, 'qb', output_dir)"
   ]
  },
  {
   "cell_type": "markdown",
   "metadata": {},
   "source": [
    "#### Defenses:"
   ]
  },
  {
   "cell_type": "code",
   "execution_count": 26,
   "metadata": {},
   "outputs": [],
   "source": [
    "# plot heatmaps for defenses\n",
    "explore_util.corr_matrix(def_df, 'def', output_dir)"
   ]
  },
  {
   "cell_type": "markdown",
   "metadata": {},
   "source": [
    "#### Kickers:"
   ]
  },
  {
   "cell_type": "code",
   "execution_count": 27,
   "metadata": {},
   "outputs": [],
   "source": [
    "# plot heatmaps for kickers\n",
    "explore_util.corr_matrix(kr_df, 'kick', output_dir)"
   ]
  },
  {
   "cell_type": "code",
   "execution_count": null,
   "metadata": {},
   "outputs": [],
   "source": []
  }
 ],
 "metadata": {
  "kernelspec": {
   "display_name": "Python 3 (ipykernel)",
   "language": "python",
   "name": "python3"
  },
  "language_info": {
   "codemirror_mode": {
    "name": "ipython",
    "version": 3
   },
   "file_extension": ".py",
   "mimetype": "text/x-python",
   "name": "python",
   "nbconvert_exporter": "python",
   "pygments_lexer": "ipython3",
   "version": "3.9.7"
  },
  "toc-autonumbering": false,
  "toc-showcode": false,
  "toc-showmarkdowntxt": false
 },
 "nbformat": 4,
 "nbformat_minor": 4
}
